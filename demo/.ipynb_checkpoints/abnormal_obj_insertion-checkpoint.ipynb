{
 "cells": [
  {
   "cell_type": "markdown",
   "id": "9f8eaf32-53e0-4e4c-a94a-f25701d18186",
   "metadata": {},
   "source": [
    "## AUTOHALLUSION Demo: Abnormal Object Insertion"
   ]
  },
  {
   "cell_type": "code",
   "execution_count": 4,
   "id": "c8569386-8d2b-4a18-a4b7-8e8e68236c41",
   "metadata": {},
   "outputs": [
    {
     "ename": "ModuleNotFoundError",
     "evalue": "No module named 'AutoHallusion_test'",
     "output_type": "error",
     "traceback": [
      "\u001b[1;31m---------------------------------------------------------------------------\u001b[0m",
      "\u001b[1;31mModuleNotFoundError\u001b[0m                       Traceback (most recent call last)",
      "Cell \u001b[1;32mIn[4], line 9\u001b[0m\n\u001b[0;32m      6\u001b[0m \u001b[38;5;28;01mimport\u001b[39;00m \u001b[38;5;21;01mrandom\u001b[39;00m\n\u001b[0;32m      7\u001b[0m \u001b[38;5;28;01mfrom\u001b[39;00m \u001b[38;5;21;01mPIL\u001b[39;00m \u001b[38;5;28;01mimport\u001b[39;00m Image\n\u001b[1;32m----> 9\u001b[0m \u001b[38;5;28;01mfrom\u001b[39;00m \u001b[38;5;21;01mAutoHallusion_test\u001b[39;00m\u001b[38;5;21;01m.\u001b[39;00m\u001b[38;5;21;01mutils\u001b[39;00m\u001b[38;5;21;01m.\u001b[39;00m\u001b[38;5;21;01mutils_merge\u001b[39;00m \u001b[38;5;28;01mimport\u001b[39;00m import_functions_given_model_type, load_cfg_given_model_type\n\u001b[0;32m     10\u001b[0m \u001b[38;5;28;01mfrom\u001b[39;00m \u001b[38;5;21;01mutils\u001b[39;00m\u001b[38;5;21;01m.\u001b[39;00m\u001b[38;5;21;01mutils_eval\u001b[39;00m \u001b[38;5;28;01mimport\u001b[39;00m evaluation_existence_given_pred_model, evaluation_spatial_relation_give_pred_model\n\u001b[0;32m     11\u001b[0m \u001b[38;5;28;01mfrom\u001b[39;00m \u001b[38;5;21;01mutils\u001b[39;00m\u001b[38;5;21;01m.\u001b[39;00m\u001b[38;5;21;01mutils\u001b[39;00m \u001b[38;5;28;01mimport\u001b[39;00m (OwlViTProcessor, OwlViTForObjectDetection, scene_thinking, generate_image_given_scene,\n\u001b[0;32m     12\u001b[0m                          Addition_Image_Operation_VD_stitch, object_detection, spatial_gt_generation,\n\u001b[0;32m     13\u001b[0m                          resize_img_n_store, convert_into_sequare)\n",
      "\u001b[1;31mModuleNotFoundError\u001b[0m: No module named 'AutoHallusion_test'"
     ]
    }
   ],
   "source": [
    "import numpy as np\n",
    "import time\n",
    "import logging, sys, os, json, shutil\n",
    "from tqdm import tqdm\n",
    "import traceback\n",
    "import random\n",
    "from PIL import Image\n",
    "\n",
    "from utils.utils_merge import import_functions_given_model_type, load_cfg_given_model_type\n",
    "from utils.utils_eval import evaluation_existence_given_pred_model, evaluation_spatial_relation_give_pred_model\n",
    "from utils.utils import (OwlViTProcessor, OwlViTForObjectDetection, scene_thinking, generate_image_given_scene,\n",
    "                         Addition_Image_Operation_VD_stitch, object_detection, spatial_gt_generation,\n",
    "                         resize_img_n_store, convert_into_sequare)"
   ]
  },
  {
   "cell_type": "code",
   "execution_count": null,
   "id": "8a3634d4-10f0-408a-9cc0-8974b3509f92",
   "metadata": {},
   "outputs": [],
   "source": []
  }
 ],
 "metadata": {
  "kernelspec": {
   "display_name": "Python 3 (ipykernel)",
   "language": "python",
   "name": "python3"
  },
  "language_info": {
   "codemirror_mode": {
    "name": "ipython",
    "version": 3
   },
   "file_extension": ".py",
   "mimetype": "text/x-python",
   "name": "python",
   "nbconvert_exporter": "python",
   "pygments_lexer": "ipython3",
   "version": "3.10.14"
  }
 },
 "nbformat": 4,
 "nbformat_minor": 5
}
